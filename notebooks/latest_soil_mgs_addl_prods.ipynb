{
 "cells": [
  {
   "cell_type": "code",
   "execution_count": null,
   "metadata": {
    "collapsed": true
   },
   "outputs": [],
   "source": [
    "import requests\n",
    "import json\n"
   ]
  },
  {
   "cell_type": "code",
   "execution_count": null,
   "outputs": [],
   "source": [
    "products_url = \"https://data.neonscience.org/api/v0/products\"\n",
    "products = requests.get(products_url).json()"
   ],
   "metadata": {
    "collapsed": false
   }
  },
  {
   "cell_type": "code",
   "execution_count": null,
   "outputs": [],
   "source": [
    "product_code_to_product_name = {i['productCode']:i['productName'] for i in products['data']}"
   ],
   "metadata": {
    "collapsed": false
   }
  },
  {
   "cell_type": "code",
   "execution_count": null,
   "outputs": [],
   "source": [
    "metagenomic_product_code_to_product_name = {i['productCode']:i['productName'] for i in products['data'] if \"metagenom\" in i['productName'].lower()}"
   ],
   "metadata": {
    "collapsed": false
   }
  },
  {
   "cell_type": "code",
   "execution_count": null,
   "outputs": [],
   "source": [
    "metagenomic_product_code_to_product_name"
   ],
   "metadata": {
    "collapsed": false
   }
  },
  {
   "cell_type": "code",
   "execution_count": null,
   "outputs": [],
   "source": [
    "soil_metagenom_2023_url = \"https://data.neonscience.org/api/v0/products/DP1.10107.001?release=RELEASE-2023\"\n",
    "soil_metagenom_2023 = requests.get(soil_metagenom_2023_url).json()"
   ],
   "metadata": {
    "collapsed": false
   }
  },
  {
   "cell_type": "code",
   "execution_count": null,
   "outputs": [],
   "source": [
    "soil_metagenom_2023"
   ],
   "metadata": {
    "collapsed": false
   }
  },
  {
   "cell_type": "code",
   "execution_count": null,
   "outputs": [],
   "source": [
    "soil_metagenom_2023_available_data_urls = [url for site in soil_metagenom_2023['data']['siteCodes'] for url in site['availableDataUrls']]"
   ],
   "metadata": {
    "collapsed": false
   }
  },
  {
   "cell_type": "code",
   "execution_count": null,
   "outputs": [],
   "source": [
    "soil_metagenom_2023_available_data_urls = list(set(soil_metagenom_2023_available_data_urls))\n",
    "soil_metagenom_2023_available_data_urls.sort()"
   ],
   "metadata": {
    "collapsed": false
   }
  },
  {
   "cell_type": "code",
   "execution_count": null,
   "outputs": [],
   "source": [
    "# soil_metagenom_2023_available_data_urls"
   ],
   "metadata": {
    "collapsed": false
   }
  },
  {
   "cell_type": "code",
   "execution_count": null,
   "outputs": [],
   "source": [
    "# what other data is available for each of those sites (at those year/months"
   ],
   "metadata": {
    "collapsed": false
   }
  },
  {
   "cell_type": "code",
   "execution_count": null,
   "outputs": [],
   "source": [
    "def get_site_summary(site, release=\"RELEASE-2023\"):\n",
    "    url = f\"https://data.neonscience.org/api/v0/sites/{site}?release={release}\"\n",
    "    print(url)\n",
    "    return requests.get(url).json()"
   ],
   "metadata": {
    "collapsed": false
   }
  },
  {
   "cell_type": "code",
   "execution_count": null,
   "outputs": [],
   "source": [
    "def get_site_prod_summary(site_summary):\n",
    "    return {i['dataProductCode']:i['dataProductTitle'] for i in  site_summary['data']['dataProducts']}"
   ],
   "metadata": {
    "collapsed": false
   }
  },
  {
   "cell_type": "code",
   "execution_count": null,
   "outputs": [],
   "source": [
    "site_summary = get_site_summary(\"BART\")\n",
    "site_prod_summary = get_site_prod_summary(site_summary)\n",
    "site_prod_summary_temp = sorted(site_prod_summary.items(), key=lambda x:x[1])\n",
    "site_prod_summary_sorted = dict(site_prod_summary_temp)"
   ],
   "metadata": {
    "collapsed": false
   }
  },
  {
   "cell_type": "code",
   "execution_count": null,
   "outputs": [],
   "source": [
    "with open(\"site_prod_summary .json\", \"w\") as outfile:\n",
    "    json.dump(site_prod_summary_sorted, outfile, indent=4)"
   ],
   "metadata": {
    "collapsed": false
   }
  },
  {
   "cell_type": "code",
   "execution_count": null,
   "outputs": [],
   "source": [
    "site_prod_summary_sorted"
   ],
   "metadata": {
    "collapsed": false
   }
  },
  {
   "cell_type": "code",
   "execution_count": null,
   "outputs": [],
   "source": [
    "# need year and month to get a product for a site from a release\n",
    "#     \"DP1.10086.001\": \"Soil physical and chemical properties, periodic\","
   ],
   "metadata": {
    "collapsed": false
   }
  },
  {
   "cell_type": "code",
   "execution_count": 69,
   "outputs": [],
   "source": [
    "site_data_products = site_summary['data']['dataProducts']"
   ],
   "metadata": {
    "collapsed": false
   }
  },
  {
   "cell_type": "code",
   "execution_count": 70,
   "outputs": [],
   "source": [
    "site_DP1_10086_001 = [i for i in site_data_products if i['dataProductCode'] == \"DP1.10086.001\"]"
   ],
   "metadata": {
    "collapsed": false
   }
  },
  {
   "cell_type": "code",
   "execution_count": 71,
   "outputs": [],
   "source": [
    "site_DP1_10086_001_urls = [j for i in site_DP1_10086_001 for j in i['availableDataUrls']]"
   ],
   "metadata": {
    "collapsed": false
   }
  },
  {
   "cell_type": "code",
   "execution_count": 72,
   "outputs": [
    {
     "data": {
      "text/plain": "['https://data.neonscience.org/api/v0/data/DP1.10086.001/BART/2014-05?release=RELEASE-2023',\n 'https://data.neonscience.org/api/v0/data/DP1.10086.001/BART/2014-06?release=RELEASE-2023',\n 'https://data.neonscience.org/api/v0/data/DP1.10086.001/BART/2014-07?release=RELEASE-2023',\n 'https://data.neonscience.org/api/v0/data/DP1.10086.001/BART/2014-08?release=RELEASE-2023',\n 'https://data.neonscience.org/api/v0/data/DP1.10086.001/BART/2014-09?release=RELEASE-2023',\n 'https://data.neonscience.org/api/v0/data/DP1.10086.001/BART/2014-10?release=RELEASE-2023',\n 'https://data.neonscience.org/api/v0/data/DP1.10086.001/BART/2014-11?release=RELEASE-2023',\n 'https://data.neonscience.org/api/v0/data/DP1.10086.001/BART/2015-07?release=RELEASE-2023',\n 'https://data.neonscience.org/api/v0/data/DP1.10086.001/BART/2016-04?release=RELEASE-2023',\n 'https://data.neonscience.org/api/v0/data/DP1.10086.001/BART/2016-07?release=RELEASE-2023',\n 'https://data.neonscience.org/api/v0/data/DP1.10086.001/BART/2016-11?release=RELEASE-2023',\n 'https://data.neonscience.org/api/v0/data/DP1.10086.001/BART/2017-05?release=RELEASE-2023',\n 'https://data.neonscience.org/api/v0/data/DP1.10086.001/BART/2017-06?release=RELEASE-2023',\n 'https://data.neonscience.org/api/v0/data/DP1.10086.001/BART/2017-10?release=RELEASE-2023',\n 'https://data.neonscience.org/api/v0/data/DP1.10086.001/BART/2018-05?release=RELEASE-2023',\n 'https://data.neonscience.org/api/v0/data/DP1.10086.001/BART/2018-06?release=RELEASE-2023',\n 'https://data.neonscience.org/api/v0/data/DP1.10086.001/BART/2018-10?release=RELEASE-2023',\n 'https://data.neonscience.org/api/v0/data/DP1.10086.001/BART/2019-05?release=RELEASE-2023',\n 'https://data.neonscience.org/api/v0/data/DP1.10086.001/BART/2019-06?release=RELEASE-2023',\n 'https://data.neonscience.org/api/v0/data/DP1.10086.001/BART/2019-09?release=RELEASE-2023',\n 'https://data.neonscience.org/api/v0/data/DP1.10086.001/BART/2019-10?release=RELEASE-2023',\n 'https://data.neonscience.org/api/v0/data/DP1.10086.001/BART/2020-04?release=RELEASE-2023',\n 'https://data.neonscience.org/api/v0/data/DP1.10086.001/BART/2020-06?release=RELEASE-2023',\n 'https://data.neonscience.org/api/v0/data/DP1.10086.001/BART/2020-07?release=RELEASE-2023',\n 'https://data.neonscience.org/api/v0/data/DP1.10086.001/BART/2020-09?release=RELEASE-2023',\n 'https://data.neonscience.org/api/v0/data/DP1.10086.001/BART/2020-10?release=RELEASE-2023',\n 'https://data.neonscience.org/api/v0/data/DP1.10086.001/BART/2021-04?release=RELEASE-2023',\n 'https://data.neonscience.org/api/v0/data/DP1.10086.001/BART/2021-05?release=RELEASE-2023',\n 'https://data.neonscience.org/api/v0/data/DP1.10086.001/BART/2021-06?release=RELEASE-2023',\n 'https://data.neonscience.org/api/v0/data/DP1.10086.001/BART/2021-10?release=RELEASE-2023']"
     },
     "execution_count": 72,
     "metadata": {},
     "output_type": "execute_result"
    }
   ],
   "source": [
    "site_DP1_10086_001_urls"
   ],
   "metadata": {
    "collapsed": false
   }
  },
  {
   "cell_type": "code",
   "execution_count": null,
   "outputs": [],
   "source": [],
   "metadata": {
    "collapsed": false
   }
  }
 ],
 "metadata": {
  "kernelspec": {
   "display_name": "Python 3",
   "language": "python",
   "name": "python3"
  },
  "language_info": {
   "codemirror_mode": {
    "name": "ipython",
    "version": 2
   },
   "file_extension": ".py",
   "mimetype": "text/x-python",
   "name": "python",
   "nbconvert_exporter": "python",
   "pygments_lexer": "ipython2",
   "version": "2.7.6"
  }
 },
 "nbformat": 4,
 "nbformat_minor": 0
}
