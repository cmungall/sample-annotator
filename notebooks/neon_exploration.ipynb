{
 "cells": [
  {
   "cell_type": "code",
   "execution_count": 1,
   "metadata": {
    "collapsed": true
   },
   "outputs": [],
   "source": [
    "import json\n",
    "\n",
    "import requests"
   ]
  },
  {
   "cell_type": "code",
   "execution_count": 2,
   "outputs": [],
   "source": [
    "releases_url = \"https://data.neonscience.org/api/v0/releases\"\n",
    "releases = requests.get(releases_url).json()\n",
    "# json.dump(releases, open(\"releases.json\", \"w\"), indent=2)"
   ],
   "metadata": {
    "collapsed": false
   }
  },
  {
   "cell_type": "code",
   "execution_count": 3,
   "outputs": [],
   "source": [
    "release_names = [release['release'] for release in releases['data']]"
   ],
   "metadata": {
    "collapsed": false
   }
  },
  {
   "cell_type": "code",
   "execution_count": 4,
   "outputs": [
    {
     "data": {
      "text/plain": "['RELEASE-2021', 'RELEASE-2022', 'RELEASE-2023']"
     },
     "execution_count": 4,
     "metadata": {},
     "output_type": "execute_result"
    }
   ],
   "source": [
    "release_names"
   ],
   "metadata": {
    "collapsed": false
   }
  },
  {
   "cell_type": "code",
   "execution_count": 5,
   "outputs": [],
   "source": [
    "products_url = \"https://data.neonscience.org/api/v0/products\"\n",
    "products = requests.get(products_url).json()\n",
    "# json.dump(products, open(\"products.json\", \"w\"), indent=2)"
   ],
   "metadata": {
    "collapsed": false
   }
  },
  {
   "cell_type": "code",
   "execution_count": 6,
   "outputs": [],
   "source": [
    "product_long_code_to_description = {i['productCodeLong']:i['productDescription'] for i in products['data']}\n",
    "json.dump(product_long_code_to_description, open(\"product_long_code_to_description.json\", \"w\"), indent=2)"
   ],
   "metadata": {
    "collapsed": false
   }
  },
  {
   "cell_type": "code",
   "execution_count": 7,
   "outputs": [],
   "source": [
    "metagenomics_product_long_code_to_description = {i['productCodeLong']:i['productDescription'] for i in products['data'] if \"metagenomic\" in i['productDescription'].lower()}\n",
    "# json.dump(metagenomics_product_long_code_to_description, open(\"metagenomics_product_long_code_to_description.json\", \"w\"), indent=2)\n"
   ],
   "metadata": {
    "collapsed": false
   }
  },
  {
   "cell_type": "code",
   "execution_count": 8,
   "outputs": [
    {
     "data": {
      "text/plain": "{'NEON.DOM.SITE.DP1.10107.001': 'Metagenomic sequence data from soil samples',\n 'NEON.DOM.SITE.DP1.20279.001': 'Metagenomic sequence data from benthic samples',\n 'NEON.DOM.SITE.DP1.20281.001': 'Metagenomic sequence data from surface water samples'}"
     },
     "execution_count": 8,
     "metadata": {},
     "output_type": "execute_result"
    }
   ],
   "source": [
    "metagenomics_product_long_code_to_description"
   ],
   "metadata": {
    "collapsed": false
   }
  },
  {
   "cell_type": "code",
   "execution_count": 9,
   "outputs": [],
   "source": [
    "sites_by_release_url = \"https://data.neonscience.org/api/v0/sites?release=RELEASE-2023\""
   ],
   "metadata": {
    "collapsed": false
   }
  },
  {
   "cell_type": "code",
   "execution_count": 10,
   "outputs": [
    {
     "name": "stdout",
     "output_type": "stream",
     "text": [
      "RELEASE-2021:NEON.DOM.SITE.DP1.10107.001\n",
      "RELEASE-2021:NEON.DOM.SITE.DP1.20279.001\n",
      "RELEASE-2021:NEON.DOM.SITE.DP1.20281.001\n",
      "RELEASE-2022:NEON.DOM.SITE.DP1.10107.001\n",
      "RELEASE-2022:NEON.DOM.SITE.DP1.20279.001\n",
      "RELEASE-2022:NEON.DOM.SITE.DP1.20281.001\n",
      "RELEASE-2023:NEON.DOM.SITE.DP1.10107.001\n",
      "RELEASE-2023:NEON.DOM.SITE.DP1.20279.001\n",
      "RELEASE-2023:NEON.DOM.SITE.DP1.20281.001\n"
     ]
    }
   ],
   "source": [
    "for i in release_names:\n",
    "    for k,v in metagenomics_product_long_code_to_description.items():\n",
    "        print(f\"{i}:{k}\")\n"
   ],
   "metadata": {
    "collapsed": false
   }
  },
  {
   "cell_type": "code",
   "execution_count": 10,
   "outputs": [],
   "source": [],
   "metadata": {
    "collapsed": false
   }
  }
 ],
 "metadata": {
  "kernelspec": {
   "display_name": "Python 3",
   "language": "python",
   "name": "python3"
  },
  "language_info": {
   "codemirror_mode": {
    "name": "ipython",
    "version": 2
   },
   "file_extension": ".py",
   "mimetype": "text/x-python",
   "name": "python",
   "nbconvert_exporter": "python",
   "pygments_lexer": "ipython2",
   "version": "2.7.6"
  }
 },
 "nbformat": 4,
 "nbformat_minor": 0
}
